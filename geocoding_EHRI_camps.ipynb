{
 "cells": [
  {
   "cell_type": "markdown",
   "id": "5b62272c",
   "metadata": {},
   "source": [
    "# Geocoding EHRI camps to detect potential errors"
   ]
  },
  {
   "cell_type": "markdown",
   "id": "468a4faf",
   "metadata": {},
   "source": [
    "The purpose of this notebook is to retrieve the entire list of concentration camps provided by the EHRI Portal using its GraphQL API, find the camps that already contain longitude and latitude values, geocode them again based on their names and alternative names using the Nominatim API and then compare the results to detect potential errors in the EHRI datasets."
   ]
  },
  {
   "cell_type": "markdown",
   "id": "6590ce65",
   "metadata": {},
   "source": [
    "First, we're going to import some Python libraries that we're going to use."
   ]
  },
  {
   "cell_type": "code",
   "execution_count": 1,
   "id": "5f1df18f",
   "metadata": {},
   "outputs": [],
   "source": [
    "import pandas as pd\n",
    "import geopy\n",
    "from ipyleaflet import Map, basemaps\n",
    "from geopy.geocoders import Nominatim\n",
    "from geopy.extra.rate_limiter import RateLimiter\n",
    "from tqdm import tqdm\n",
    "import requests\n",
    "import json"
   ]
  },
  {
   "cell_type": "markdown",
   "id": "19c55149",
   "metadata": {},
   "source": [
    "We define the GraphQL query that will help us retrieve the camps from the EHRI portal (including their names, alternative names, latitude and longitude data and the list of subcamps or main camps potentially assigned to them). More on this in [this Medium post](https://towardsdatascience.com/connecting-to-a-graphql-api-using-python-246dda927840)."
   ]
  },
  {
   "cell_type": "code",
   "execution_count": 2,
   "id": "11871c0f",
   "metadata": {},
   "outputs": [],
   "source": [
    "query = \"\"\"query campsInfo {\n",
    "  CvocVocabulary(id:\"ehri_camps\") {\n",
    "    concepts {\n",
    "      items {\n",
    "        id\n",
    "        description {\n",
    "          name\n",
    "          altLabel\n",
    "        }\n",
    "        latitude\n",
    "        longitude\n",
    "        broader {\n",
    "          id\n",
    "        }\n",
    "        narrower {\n",
    "          id\n",
    "        }\n",
    "      }\n",
    "    }\n",
    "  }\n",
    "}\"\"\""
   ]
  },
  {
   "cell_type": "markdown",
   "id": "395585e8",
   "metadata": {},
   "source": [
    "We feed the aforementioned query to the EHRI GraphQL API and assign the result of this request to the `r` variable."
   ]
  },
  {
   "cell_type": "code",
   "execution_count": 3,
   "id": "83831e40",
   "metadata": {},
   "outputs": [
    {
     "name": "stdout",
     "output_type": "stream",
     "text": [
      "200\n"
     ]
    }
   ],
   "source": [
    "url = 'https://portal.ehri-project-stage.eu/api/graphql'\n",
    "r = requests.post(url, headers = {\"X-Stream\": \"true\"}, json={'query': query})\n",
    "print(r.status_code)"
   ]
  },
  {
   "cell_type": "markdown",
   "id": "eba19ad9",
   "metadata": {},
   "source": [
    "We deserialise the EHRI Portal's GraphQL API response to a Python object so that we are able to use it with Python."
   ]
  },
  {
   "cell_type": "code",
   "execution_count": 4,
   "id": "99a17812",
   "metadata": {},
   "outputs": [],
   "source": [
    "json_data = json.loads(r.text)"
   ]
  },
  {
   "cell_type": "markdown",
   "id": "1f94704d",
   "metadata": {},
   "source": [
    "We save the data into a [pandas DataFrame](https://pandas.pydata.org/docs/reference/api/pandas.DataFrame.html), an Excel-like tabular data structure (almost equivalent to an Excel worksheet).\n",
    "\n",
    "*For a deeper dive into the Python pandas library and how it compares to Excel, have a look [here](https://pandas.pydata.org/pandas-docs/dev/getting_started/comparison/comparison_with_spreadsheets.html).*"
   ]
  },
  {
   "cell_type": "code",
   "execution_count": 5,
   "id": "66ebb30e",
   "metadata": {},
   "outputs": [],
   "source": [
    "df_data = json_data['data']['CvocVocabulary']['concepts']['items']\n",
    "df = pd.DataFrame(df_data)"
   ]
  },
  {
   "cell_type": "markdown",
   "id": "f4676d7c",
   "metadata": {},
   "source": [
    "Let's print the first ten rows of the DataFrame that we created (`df`) to check whether we got the intended result."
   ]
  },
  {
   "cell_type": "code",
   "execution_count": 6,
   "id": "d8356e92",
   "metadata": {},
   "outputs": [
    {
     "data": {
      "text/html": [
       "<div>\n",
       "<style scoped>\n",
       "    .dataframe tbody tr th:only-of-type {\n",
       "        vertical-align: middle;\n",
       "    }\n",
       "\n",
       "    .dataframe tbody tr th {\n",
       "        vertical-align: top;\n",
       "    }\n",
       "\n",
       "    .dataframe thead th {\n",
       "        text-align: right;\n",
       "    }\n",
       "</style>\n",
       "<table border=\"1\" class=\"dataframe\">\n",
       "  <thead>\n",
       "    <tr style=\"text-align: right;\">\n",
       "      <th></th>\n",
       "      <th>id</th>\n",
       "      <th>description</th>\n",
       "      <th>latitude</th>\n",
       "      <th>longitude</th>\n",
       "      <th>broader</th>\n",
       "      <th>narrower</th>\n",
       "    </tr>\n",
       "  </thead>\n",
       "  <tbody>\n",
       "    <tr>\n",
       "      <th>0</th>\n",
       "      <td>ehri_camps-60</td>\n",
       "      <td>{'name': 'München-Allach (Porzellanmanufaktur)...</td>\n",
       "      <td>48.188700</td>\n",
       "      <td>11.470900</td>\n",
       "      <td>[{'id': 'ehri_camps-177'}]</td>\n",
       "      <td>[]</td>\n",
       "    </tr>\n",
       "    <tr>\n",
       "      <th>1</th>\n",
       "      <td>ehri_camps-70</td>\n",
       "      <td>{'name': 'Concentration Camp Gusen I', 'altLab...</td>\n",
       "      <td>NaN</td>\n",
       "      <td>NaN</td>\n",
       "      <td>[{'id': 'ehri_camps-570'}]</td>\n",
       "      <td>[{'id': 'ehri_camps-2081'}, {'id': 'ehri_camps...</td>\n",
       "    </tr>\n",
       "    <tr>\n",
       "      <th>2</th>\n",
       "      <td>ehri_camps-2948</td>\n",
       "      <td>{'name': 'Königsberg (Neumark) concentration c...</td>\n",
       "      <td>52.966700</td>\n",
       "      <td>14.433300</td>\n",
       "      <td>[{'id': 'ehri_camps-760'}]</td>\n",
       "      <td>[]</td>\n",
       "    </tr>\n",
       "    <tr>\n",
       "      <th>3</th>\n",
       "      <td>ehri_camps-3133</td>\n",
       "      <td>{'name': 'Mainz-Weisenau concentration camp', ...</td>\n",
       "      <td>49.983299</td>\n",
       "      <td>8.300000</td>\n",
       "      <td>[{'id': 'ehri_camps-108'}]</td>\n",
       "      <td>[]</td>\n",
       "    </tr>\n",
       "    <tr>\n",
       "      <th>4</th>\n",
       "      <td>ehri_camps-2815</td>\n",
       "      <td>{'name': 'Struppen concentration camp', 'altLa...</td>\n",
       "      <td>50.933300</td>\n",
       "      <td>14.016699</td>\n",
       "      <td>[]</td>\n",
       "      <td>[]</td>\n",
       "    </tr>\n",
       "    <tr>\n",
       "      <th>5</th>\n",
       "      <td>ehri_camps-2900</td>\n",
       "      <td>{'name': 'Kostolná pri Trenčíne concentration ...</td>\n",
       "      <td>48.883333</td>\n",
       "      <td>17.972222</td>\n",
       "      <td>[]</td>\n",
       "      <td>[]</td>\n",
       "    </tr>\n",
       "    <tr>\n",
       "      <th>6</th>\n",
       "      <td>ehri_camps-2285</td>\n",
       "      <td>{'name': 'Smel’chintsy concentration camp', 'a...</td>\n",
       "      <td>NaN</td>\n",
       "      <td>NaN</td>\n",
       "      <td>[]</td>\n",
       "      <td>[]</td>\n",
       "    </tr>\n",
       "    <tr>\n",
       "      <th>7</th>\n",
       "      <td>ehri_camps-2067</td>\n",
       "      <td>{'name': 'Blankenburg-Regenstein concentration...</td>\n",
       "      <td>NaN</td>\n",
       "      <td>NaN</td>\n",
       "      <td>[{'id': 'ehri_camps-627'}]</td>\n",
       "      <td>[]</td>\n",
       "    </tr>\n",
       "    <tr>\n",
       "      <th>8</th>\n",
       "      <td>ehri_camps-2371</td>\n",
       "      <td>{'name': 'Opatówek concentration camp', 'altLa...</td>\n",
       "      <td>NaN</td>\n",
       "      <td>NaN</td>\n",
       "      <td>[]</td>\n",
       "      <td>[]</td>\n",
       "    </tr>\n",
       "    <tr>\n",
       "      <th>9</th>\n",
       "      <td>ehri_camps-3000</td>\n",
       "      <td>{'name': 'Petseri concentration camp', 'altLab...</td>\n",
       "      <td>58.315600</td>\n",
       "      <td>26.724000</td>\n",
       "      <td>[{'id': 'ehri_camps-961'}]</td>\n",
       "      <td>[]</td>\n",
       "    </tr>\n",
       "  </tbody>\n",
       "</table>\n",
       "</div>"
      ],
      "text/plain": [
       "                id                                        description  \\\n",
       "0    ehri_camps-60  {'name': 'München-Allach (Porzellanmanufaktur)...   \n",
       "1    ehri_camps-70  {'name': 'Concentration Camp Gusen I', 'altLab...   \n",
       "2  ehri_camps-2948  {'name': 'Königsberg (Neumark) concentration c...   \n",
       "3  ehri_camps-3133  {'name': 'Mainz-Weisenau concentration camp', ...   \n",
       "4  ehri_camps-2815  {'name': 'Struppen concentration camp', 'altLa...   \n",
       "5  ehri_camps-2900  {'name': 'Kostolná pri Trenčíne concentration ...   \n",
       "6  ehri_camps-2285  {'name': 'Smel’chintsy concentration camp', 'a...   \n",
       "7  ehri_camps-2067  {'name': 'Blankenburg-Regenstein concentration...   \n",
       "8  ehri_camps-2371  {'name': 'Opatówek concentration camp', 'altLa...   \n",
       "9  ehri_camps-3000  {'name': 'Petseri concentration camp', 'altLab...   \n",
       "\n",
       "    latitude  longitude                     broader  \\\n",
       "0  48.188700  11.470900  [{'id': 'ehri_camps-177'}]   \n",
       "1        NaN        NaN  [{'id': 'ehri_camps-570'}]   \n",
       "2  52.966700  14.433300  [{'id': 'ehri_camps-760'}]   \n",
       "3  49.983299   8.300000  [{'id': 'ehri_camps-108'}]   \n",
       "4  50.933300  14.016699                          []   \n",
       "5  48.883333  17.972222                          []   \n",
       "6        NaN        NaN                          []   \n",
       "7        NaN        NaN  [{'id': 'ehri_camps-627'}]   \n",
       "8        NaN        NaN                          []   \n",
       "9  58.315600  26.724000  [{'id': 'ehri_camps-961'}]   \n",
       "\n",
       "                                            narrower  \n",
       "0                                                 []  \n",
       "1  [{'id': 'ehri_camps-2081'}, {'id': 'ehri_camps...  \n",
       "2                                                 []  \n",
       "3                                                 []  \n",
       "4                                                 []  \n",
       "5                                                 []  \n",
       "6                                                 []  \n",
       "7                                                 []  \n",
       "8                                                 []  \n",
       "9                                                 []  "
      ]
     },
     "execution_count": 6,
     "metadata": {},
     "output_type": "execute_result"
    }
   ],
   "source": [
    "df.head(10)"
   ]
  },
  {
   "cell_type": "markdown",
   "id": "9ced5763",
   "metadata": {},
   "source": [
    "Based on the result of the previous cell, we observe that our `description` column still contains a Python dictionary, and we cannot immediately access the names and alt labels of the camps. We need to extract this information and save it into separate columns in our DataFrame.\n",
    "\n",
    "A way to do this is by first creating some empty lists that will contain the extracted information."
   ]
  },
  {
   "cell_type": "code",
   "execution_count": 7,
   "id": "e8e9fc8c",
   "metadata": {},
   "outputs": [],
   "source": [
    "names = []\n",
    "alt_names_list = []\n",
    "alt_names = []"
   ]
  },
  {
   "cell_type": "markdown",
   "id": "d58b193b",
   "metadata": {},
   "source": [
    "We iterate over every camp in the DataFrame and append its name to the `names` list we created earlier and its alt labels to the `alt_names_list` we created earlier."
   ]
  },
  {
   "cell_type": "code",
   "execution_count": 8,
   "id": "17fc74e1",
   "metadata": {},
   "outputs": [],
   "source": [
    "for camp in df_data:\n",
    "    names.append(camp['description']['name'])\n",
    "    alt_names_list.append(camp['description']['altLabel'])"
   ]
  },
  {
   "cell_type": "markdown",
   "id": "ff7ce307",
   "metadata": {},
   "source": [
    "We print the first ten items of each result."
   ]
  },
  {
   "cell_type": "code",
   "execution_count": 9,
   "id": "3bd15dd1",
   "metadata": {},
   "outputs": [
    {
     "data": {
      "text/plain": [
       "['München-Allach (Porzellanmanufaktur) concentration camp',\n",
       " 'Concentration Camp Gusen I',\n",
       " 'Königsberg (Neumark) concentration camp',\n",
       " 'Mainz-Weisenau concentration camp',\n",
       " 'Struppen concentration camp',\n",
       " 'Kostolná pri Trenčíne concentration camp',\n",
       " 'Smel’chintsy concentration camp',\n",
       " 'Blankenburg-Regenstein concentration camp',\n",
       " 'Opatówek concentration camp',\n",
       " 'Petseri concentration camp']"
      ]
     },
     "execution_count": 9,
     "metadata": {},
     "output_type": "execute_result"
    }
   ],
   "source": [
    "names[0:10]"
   ]
  },
  {
   "cell_type": "code",
   "execution_count": 10,
   "id": "f8ef7738",
   "metadata": {},
   "outputs": [
    {
     "data": {
      "text/plain": [
       "[[' München-Allach (PMA) concentration camp',\n",
       "  'München (Porzellanmanufaktur) concentration camp'],\n",
       " [],\n",
       " [],\n",
       " [],\n",
       " [],\n",
       " [],\n",
       " ['Smil’chyntsi concentration camp'],\n",
       " ['Turmalin concentration camp'],\n",
       " [],\n",
       " []]"
      ]
     },
     "execution_count": 10,
     "metadata": {},
     "output_type": "execute_result"
    }
   ],
   "source": [
    "alt_names_list[0:10]"
   ]
  },
  {
   "cell_type": "markdown",
   "id": "ee62a1ee",
   "metadata": {},
   "source": [
    "As we can see, the `names` list contains only one default name of each camp, but the `alt_names_list` is a list of lists since some camps have multiple alternative names. We iterate over every list contained in `alt_names_list` to extract each individual name and add it to a string that will contain all the alternative names of a camp to facilitate our geocoding process."
   ]
  },
  {
   "cell_type": "code",
   "execution_count": 11,
   "id": "2bb4e6c0",
   "metadata": {},
   "outputs": [],
   "source": [
    "for i in range(len(alt_names_list)):\n",
    "    str = \"\"\n",
    "    for j in alt_names_list[i]:\n",
    "        str += j + \" \"\n",
    "    alt_names.append(str)\n",
    "        "
   ]
  },
  {
   "cell_type": "code",
   "execution_count": 12,
   "id": "8fcab02a",
   "metadata": {},
   "outputs": [
    {
     "data": {
      "text/plain": [
       "[' München-Allach (PMA) concentration camp München (Porzellanmanufaktur) concentration camp ',\n",
       " '',\n",
       " '',\n",
       " '',\n",
       " '',\n",
       " '',\n",
       " 'Smil’chyntsi concentration camp ',\n",
       " 'Turmalin concentration camp ',\n",
       " '',\n",
       " '']"
      ]
     },
     "execution_count": 12,
     "metadata": {},
     "output_type": "execute_result"
    }
   ],
   "source": [
    "alt_names[0:10]"
   ]
  },
  {
   "cell_type": "markdown",
   "id": "82dfbcf8",
   "metadata": {},
   "source": [
    "Now we can add the names and alt names as DataFrame columns for easier manipulation and visualisation of our dataset."
   ]
  },
  {
   "cell_type": "code",
   "execution_count": 13,
   "id": "2a5ef4a3",
   "metadata": {},
   "outputs": [],
   "source": [
    "df['name'] = names\n",
    "df['alt_names'] = alt_names"
   ]
  },
  {
   "cell_type": "code",
   "execution_count": 14,
   "id": "a02bc8d8",
   "metadata": {},
   "outputs": [
    {
     "data": {
      "text/html": [
       "<div>\n",
       "<style scoped>\n",
       "    .dataframe tbody tr th:only-of-type {\n",
       "        vertical-align: middle;\n",
       "    }\n",
       "\n",
       "    .dataframe tbody tr th {\n",
       "        vertical-align: top;\n",
       "    }\n",
       "\n",
       "    .dataframe thead th {\n",
       "        text-align: right;\n",
       "    }\n",
       "</style>\n",
       "<table border=\"1\" class=\"dataframe\">\n",
       "  <thead>\n",
       "    <tr style=\"text-align: right;\">\n",
       "      <th></th>\n",
       "      <th>id</th>\n",
       "      <th>description</th>\n",
       "      <th>latitude</th>\n",
       "      <th>longitude</th>\n",
       "      <th>broader</th>\n",
       "      <th>narrower</th>\n",
       "      <th>name</th>\n",
       "      <th>alt_names</th>\n",
       "    </tr>\n",
       "  </thead>\n",
       "  <tbody>\n",
       "    <tr>\n",
       "      <th>0</th>\n",
       "      <td>ehri_camps-60</td>\n",
       "      <td>{'name': 'München-Allach (Porzellanmanufaktur)...</td>\n",
       "      <td>48.188700</td>\n",
       "      <td>11.470900</td>\n",
       "      <td>[{'id': 'ehri_camps-177'}]</td>\n",
       "      <td>[]</td>\n",
       "      <td>München-Allach (Porzellanmanufaktur) concentra...</td>\n",
       "      <td>München-Allach (PMA) concentration camp Münch...</td>\n",
       "    </tr>\n",
       "    <tr>\n",
       "      <th>1</th>\n",
       "      <td>ehri_camps-70</td>\n",
       "      <td>{'name': 'Concentration Camp Gusen I', 'altLab...</td>\n",
       "      <td>NaN</td>\n",
       "      <td>NaN</td>\n",
       "      <td>[{'id': 'ehri_camps-570'}]</td>\n",
       "      <td>[{'id': 'ehri_camps-2081'}, {'id': 'ehri_camps...</td>\n",
       "      <td>Concentration Camp Gusen I</td>\n",
       "      <td></td>\n",
       "    </tr>\n",
       "    <tr>\n",
       "      <th>2</th>\n",
       "      <td>ehri_camps-2948</td>\n",
       "      <td>{'name': 'Königsberg (Neumark) concentration c...</td>\n",
       "      <td>52.966700</td>\n",
       "      <td>14.433300</td>\n",
       "      <td>[{'id': 'ehri_camps-760'}]</td>\n",
       "      <td>[]</td>\n",
       "      <td>Königsberg (Neumark) concentration camp</td>\n",
       "      <td></td>\n",
       "    </tr>\n",
       "    <tr>\n",
       "      <th>3</th>\n",
       "      <td>ehri_camps-3133</td>\n",
       "      <td>{'name': 'Mainz-Weisenau concentration camp', ...</td>\n",
       "      <td>49.983299</td>\n",
       "      <td>8.300000</td>\n",
       "      <td>[{'id': 'ehri_camps-108'}]</td>\n",
       "      <td>[]</td>\n",
       "      <td>Mainz-Weisenau concentration camp</td>\n",
       "      <td></td>\n",
       "    </tr>\n",
       "    <tr>\n",
       "      <th>4</th>\n",
       "      <td>ehri_camps-2815</td>\n",
       "      <td>{'name': 'Struppen concentration camp', 'altLa...</td>\n",
       "      <td>50.933300</td>\n",
       "      <td>14.016699</td>\n",
       "      <td>[]</td>\n",
       "      <td>[]</td>\n",
       "      <td>Struppen concentration camp</td>\n",
       "      <td></td>\n",
       "    </tr>\n",
       "  </tbody>\n",
       "</table>\n",
       "</div>"
      ],
      "text/plain": [
       "                id                                        description  \\\n",
       "0    ehri_camps-60  {'name': 'München-Allach (Porzellanmanufaktur)...   \n",
       "1    ehri_camps-70  {'name': 'Concentration Camp Gusen I', 'altLab...   \n",
       "2  ehri_camps-2948  {'name': 'Königsberg (Neumark) concentration c...   \n",
       "3  ehri_camps-3133  {'name': 'Mainz-Weisenau concentration camp', ...   \n",
       "4  ehri_camps-2815  {'name': 'Struppen concentration camp', 'altLa...   \n",
       "\n",
       "    latitude  longitude                     broader  \\\n",
       "0  48.188700  11.470900  [{'id': 'ehri_camps-177'}]   \n",
       "1        NaN        NaN  [{'id': 'ehri_camps-570'}]   \n",
       "2  52.966700  14.433300  [{'id': 'ehri_camps-760'}]   \n",
       "3  49.983299   8.300000  [{'id': 'ehri_camps-108'}]   \n",
       "4  50.933300  14.016699                          []   \n",
       "\n",
       "                                            narrower  \\\n",
       "0                                                 []   \n",
       "1  [{'id': 'ehri_camps-2081'}, {'id': 'ehri_camps...   \n",
       "2                                                 []   \n",
       "3                                                 []   \n",
       "4                                                 []   \n",
       "\n",
       "                                                name  \\\n",
       "0  München-Allach (Porzellanmanufaktur) concentra...   \n",
       "1                         Concentration Camp Gusen I   \n",
       "2            Königsberg (Neumark) concentration camp   \n",
       "3                  Mainz-Weisenau concentration camp   \n",
       "4                        Struppen concentration camp   \n",
       "\n",
       "                                           alt_names  \n",
       "0   München-Allach (PMA) concentration camp Münch...  \n",
       "1                                                     \n",
       "2                                                     \n",
       "3                                                     \n",
       "4                                                     "
      ]
     },
     "execution_count": 14,
     "metadata": {},
     "output_type": "execute_result"
    }
   ],
   "source": [
    "df.head()"
   ]
  },
  {
   "cell_type": "markdown",
   "id": "d6eb9950",
   "metadata": {},
   "source": [
    "To facilitate geocoding based on the name of the camp, we might want to remove the term 'concentration camp' and the parentheses from the names of the camps. To do this, we use regular expressions, and then we save the result into two new `df` columns, `name_regex` and `alt_names_regex`."
   ]
  },
  {
   "cell_type": "code",
   "execution_count": 15,
   "id": "ef275e24",
   "metadata": {},
   "outputs": [],
   "source": [
    "df['name_regex'] = df['name'].replace(to_replace=r'(?i)concentration camp|[()]', value='', regex=True)\n",
    "df['alt_names_regex'] = df['alt_names'].replace(to_replace=r'(?i)concentration camp|[()]', value='', regex=True)"
   ]
  },
  {
   "cell_type": "code",
   "execution_count": 16,
   "id": "ecac3ab7",
   "metadata": {},
   "outputs": [
    {
     "data": {
      "text/html": [
       "<div>\n",
       "<style scoped>\n",
       "    .dataframe tbody tr th:only-of-type {\n",
       "        vertical-align: middle;\n",
       "    }\n",
       "\n",
       "    .dataframe tbody tr th {\n",
       "        vertical-align: top;\n",
       "    }\n",
       "\n",
       "    .dataframe thead th {\n",
       "        text-align: right;\n",
       "    }\n",
       "</style>\n",
       "<table border=\"1\" class=\"dataframe\">\n",
       "  <thead>\n",
       "    <tr style=\"text-align: right;\">\n",
       "      <th></th>\n",
       "      <th>id</th>\n",
       "      <th>description</th>\n",
       "      <th>latitude</th>\n",
       "      <th>longitude</th>\n",
       "      <th>broader</th>\n",
       "      <th>narrower</th>\n",
       "      <th>name</th>\n",
       "      <th>alt_names</th>\n",
       "      <th>name_regex</th>\n",
       "      <th>alt_names_regex</th>\n",
       "    </tr>\n",
       "  </thead>\n",
       "  <tbody>\n",
       "    <tr>\n",
       "      <th>0</th>\n",
       "      <td>ehri_camps-60</td>\n",
       "      <td>{'name': 'München-Allach (Porzellanmanufaktur)...</td>\n",
       "      <td>48.188700</td>\n",
       "      <td>11.470900</td>\n",
       "      <td>[{'id': 'ehri_camps-177'}]</td>\n",
       "      <td>[]</td>\n",
       "      <td>München-Allach (Porzellanmanufaktur) concentra...</td>\n",
       "      <td>München-Allach (PMA) concentration camp Münch...</td>\n",
       "      <td>München-Allach Porzellanmanufaktur</td>\n",
       "      <td>München-Allach PMA  München Porzellanmanufakt...</td>\n",
       "    </tr>\n",
       "    <tr>\n",
       "      <th>1</th>\n",
       "      <td>ehri_camps-70</td>\n",
       "      <td>{'name': 'Concentration Camp Gusen I', 'altLab...</td>\n",
       "      <td>NaN</td>\n",
       "      <td>NaN</td>\n",
       "      <td>[{'id': 'ehri_camps-570'}]</td>\n",
       "      <td>[{'id': 'ehri_camps-2081'}, {'id': 'ehri_camps...</td>\n",
       "      <td>Concentration Camp Gusen I</td>\n",
       "      <td></td>\n",
       "      <td>Gusen I</td>\n",
       "      <td></td>\n",
       "    </tr>\n",
       "    <tr>\n",
       "      <th>2</th>\n",
       "      <td>ehri_camps-2948</td>\n",
       "      <td>{'name': 'Königsberg (Neumark) concentration c...</td>\n",
       "      <td>52.966700</td>\n",
       "      <td>14.433300</td>\n",
       "      <td>[{'id': 'ehri_camps-760'}]</td>\n",
       "      <td>[]</td>\n",
       "      <td>Königsberg (Neumark) concentration camp</td>\n",
       "      <td></td>\n",
       "      <td>Königsberg Neumark</td>\n",
       "      <td></td>\n",
       "    </tr>\n",
       "    <tr>\n",
       "      <th>3</th>\n",
       "      <td>ehri_camps-3133</td>\n",
       "      <td>{'name': 'Mainz-Weisenau concentration camp', ...</td>\n",
       "      <td>49.983299</td>\n",
       "      <td>8.300000</td>\n",
       "      <td>[{'id': 'ehri_camps-108'}]</td>\n",
       "      <td>[]</td>\n",
       "      <td>Mainz-Weisenau concentration camp</td>\n",
       "      <td></td>\n",
       "      <td>Mainz-Weisenau</td>\n",
       "      <td></td>\n",
       "    </tr>\n",
       "    <tr>\n",
       "      <th>4</th>\n",
       "      <td>ehri_camps-2815</td>\n",
       "      <td>{'name': 'Struppen concentration camp', 'altLa...</td>\n",
       "      <td>50.933300</td>\n",
       "      <td>14.016699</td>\n",
       "      <td>[]</td>\n",
       "      <td>[]</td>\n",
       "      <td>Struppen concentration camp</td>\n",
       "      <td></td>\n",
       "      <td>Struppen</td>\n",
       "      <td></td>\n",
       "    </tr>\n",
       "  </tbody>\n",
       "</table>\n",
       "</div>"
      ],
      "text/plain": [
       "                id                                        description  \\\n",
       "0    ehri_camps-60  {'name': 'München-Allach (Porzellanmanufaktur)...   \n",
       "1    ehri_camps-70  {'name': 'Concentration Camp Gusen I', 'altLab...   \n",
       "2  ehri_camps-2948  {'name': 'Königsberg (Neumark) concentration c...   \n",
       "3  ehri_camps-3133  {'name': 'Mainz-Weisenau concentration camp', ...   \n",
       "4  ehri_camps-2815  {'name': 'Struppen concentration camp', 'altLa...   \n",
       "\n",
       "    latitude  longitude                     broader  \\\n",
       "0  48.188700  11.470900  [{'id': 'ehri_camps-177'}]   \n",
       "1        NaN        NaN  [{'id': 'ehri_camps-570'}]   \n",
       "2  52.966700  14.433300  [{'id': 'ehri_camps-760'}]   \n",
       "3  49.983299   8.300000  [{'id': 'ehri_camps-108'}]   \n",
       "4  50.933300  14.016699                          []   \n",
       "\n",
       "                                            narrower  \\\n",
       "0                                                 []   \n",
       "1  [{'id': 'ehri_camps-2081'}, {'id': 'ehri_camps...   \n",
       "2                                                 []   \n",
       "3                                                 []   \n",
       "4                                                 []   \n",
       "\n",
       "                                                name  \\\n",
       "0  München-Allach (Porzellanmanufaktur) concentra...   \n",
       "1                         Concentration Camp Gusen I   \n",
       "2            Königsberg (Neumark) concentration camp   \n",
       "3                  Mainz-Weisenau concentration camp   \n",
       "4                        Struppen concentration camp   \n",
       "\n",
       "                                           alt_names  \\\n",
       "0   München-Allach (PMA) concentration camp Münch...   \n",
       "1                                                      \n",
       "2                                                      \n",
       "3                                                      \n",
       "4                                                      \n",
       "\n",
       "                            name_regex  \\\n",
       "0  München-Allach Porzellanmanufaktur    \n",
       "1                              Gusen I   \n",
       "2                  Königsberg Neumark    \n",
       "3                      Mainz-Weisenau    \n",
       "4                            Struppen    \n",
       "\n",
       "                                     alt_names_regex  \n",
       "0   München-Allach PMA  München Porzellanmanufakt...  \n",
       "1                                                     \n",
       "2                                                     \n",
       "3                                                     \n",
       "4                                                     "
      ]
     },
     "execution_count": 16,
     "metadata": {},
     "output_type": "execute_result"
    }
   ],
   "source": [
    "df.head()"
   ]
  },
  {
   "cell_type": "markdown",
   "id": "6ca9e4af",
   "metadata": {},
   "source": [
    "To geocode the locations of the camps, we need to construct a query that we will feed to the geocoder. The only information returned by the EHRI GraphQL API that we can use for this purpose is the names and alt names of the camps since our datasets do not contain additional geographical information, such as the names of the cities or countries where the camps were located. Since the names of the camps do not form complete addresses, the chances that the geocoder will yield good and precise results are limited. For this reason, we need to maximise our chances of success by constructing queries that are as helpful to the geocoder as possible. A method that we could use to improve our success rate would be to add to the query the alt names in addition to the default name of each camp. Another thing we could try (to improve the precision of retrieved locations) would be to add the phrase 'concentration camp' to the queries in case the geocoder can locate the exact location of a camp based on OpenStreetMap data.\n",
    "\n",
    "We add two more columns to our df for each query we want to try out."
   ]
  },
  {
   "cell_type": "code",
   "execution_count": 17,
   "id": "9ec2c887",
   "metadata": {},
   "outputs": [],
   "source": [
    "df['query'] = df['name_regex'] + df['alt_names_regex']\n",
    "df['query_with_cc'] = df['name_regex'] + df['alt_names_regex'] + ' concentration camp'"
   ]
  },
  {
   "cell_type": "code",
   "execution_count": 18,
   "id": "2ff19af3",
   "metadata": {},
   "outputs": [
    {
     "data": {
      "text/html": [
       "<div>\n",
       "<style scoped>\n",
       "    .dataframe tbody tr th:only-of-type {\n",
       "        vertical-align: middle;\n",
       "    }\n",
       "\n",
       "    .dataframe tbody tr th {\n",
       "        vertical-align: top;\n",
       "    }\n",
       "\n",
       "    .dataframe thead th {\n",
       "        text-align: right;\n",
       "    }\n",
       "</style>\n",
       "<table border=\"1\" class=\"dataframe\">\n",
       "  <thead>\n",
       "    <tr style=\"text-align: right;\">\n",
       "      <th></th>\n",
       "      <th>id</th>\n",
       "      <th>description</th>\n",
       "      <th>latitude</th>\n",
       "      <th>longitude</th>\n",
       "      <th>broader</th>\n",
       "      <th>narrower</th>\n",
       "      <th>name</th>\n",
       "      <th>alt_names</th>\n",
       "      <th>name_regex</th>\n",
       "      <th>alt_names_regex</th>\n",
       "      <th>query</th>\n",
       "      <th>query_with_cc</th>\n",
       "    </tr>\n",
       "  </thead>\n",
       "  <tbody>\n",
       "    <tr>\n",
       "      <th>0</th>\n",
       "      <td>ehri_camps-60</td>\n",
       "      <td>{'name': 'München-Allach (Porzellanmanufaktur)...</td>\n",
       "      <td>48.188700</td>\n",
       "      <td>11.470900</td>\n",
       "      <td>[{'id': 'ehri_camps-177'}]</td>\n",
       "      <td>[]</td>\n",
       "      <td>München-Allach (Porzellanmanufaktur) concentra...</td>\n",
       "      <td>München-Allach (PMA) concentration camp Münch...</td>\n",
       "      <td>München-Allach Porzellanmanufaktur</td>\n",
       "      <td>München-Allach PMA  München Porzellanmanufakt...</td>\n",
       "      <td>München-Allach Porzellanmanufaktur  München-Al...</td>\n",
       "      <td>München-Allach Porzellanmanufaktur  München-Al...</td>\n",
       "    </tr>\n",
       "    <tr>\n",
       "      <th>1</th>\n",
       "      <td>ehri_camps-70</td>\n",
       "      <td>{'name': 'Concentration Camp Gusen I', 'altLab...</td>\n",
       "      <td>NaN</td>\n",
       "      <td>NaN</td>\n",
       "      <td>[{'id': 'ehri_camps-570'}]</td>\n",
       "      <td>[{'id': 'ehri_camps-2081'}, {'id': 'ehri_camps...</td>\n",
       "      <td>Concentration Camp Gusen I</td>\n",
       "      <td></td>\n",
       "      <td>Gusen I</td>\n",
       "      <td></td>\n",
       "      <td>Gusen I</td>\n",
       "      <td>Gusen I concentration camp</td>\n",
       "    </tr>\n",
       "    <tr>\n",
       "      <th>2</th>\n",
       "      <td>ehri_camps-2948</td>\n",
       "      <td>{'name': 'Königsberg (Neumark) concentration c...</td>\n",
       "      <td>52.966700</td>\n",
       "      <td>14.433300</td>\n",
       "      <td>[{'id': 'ehri_camps-760'}]</td>\n",
       "      <td>[]</td>\n",
       "      <td>Königsberg (Neumark) concentration camp</td>\n",
       "      <td></td>\n",
       "      <td>Königsberg Neumark</td>\n",
       "      <td></td>\n",
       "      <td>Königsberg Neumark</td>\n",
       "      <td>Königsberg Neumark  concentration camp</td>\n",
       "    </tr>\n",
       "    <tr>\n",
       "      <th>3</th>\n",
       "      <td>ehri_camps-3133</td>\n",
       "      <td>{'name': 'Mainz-Weisenau concentration camp', ...</td>\n",
       "      <td>49.983299</td>\n",
       "      <td>8.300000</td>\n",
       "      <td>[{'id': 'ehri_camps-108'}]</td>\n",
       "      <td>[]</td>\n",
       "      <td>Mainz-Weisenau concentration camp</td>\n",
       "      <td></td>\n",
       "      <td>Mainz-Weisenau</td>\n",
       "      <td></td>\n",
       "      <td>Mainz-Weisenau</td>\n",
       "      <td>Mainz-Weisenau  concentration camp</td>\n",
       "    </tr>\n",
       "    <tr>\n",
       "      <th>4</th>\n",
       "      <td>ehri_camps-2815</td>\n",
       "      <td>{'name': 'Struppen concentration camp', 'altLa...</td>\n",
       "      <td>50.933300</td>\n",
       "      <td>14.016699</td>\n",
       "      <td>[]</td>\n",
       "      <td>[]</td>\n",
       "      <td>Struppen concentration camp</td>\n",
       "      <td></td>\n",
       "      <td>Struppen</td>\n",
       "      <td></td>\n",
       "      <td>Struppen</td>\n",
       "      <td>Struppen  concentration camp</td>\n",
       "    </tr>\n",
       "  </tbody>\n",
       "</table>\n",
       "</div>"
      ],
      "text/plain": [
       "                id                                        description  \\\n",
       "0    ehri_camps-60  {'name': 'München-Allach (Porzellanmanufaktur)...   \n",
       "1    ehri_camps-70  {'name': 'Concentration Camp Gusen I', 'altLab...   \n",
       "2  ehri_camps-2948  {'name': 'Königsberg (Neumark) concentration c...   \n",
       "3  ehri_camps-3133  {'name': 'Mainz-Weisenau concentration camp', ...   \n",
       "4  ehri_camps-2815  {'name': 'Struppen concentration camp', 'altLa...   \n",
       "\n",
       "    latitude  longitude                     broader  \\\n",
       "0  48.188700  11.470900  [{'id': 'ehri_camps-177'}]   \n",
       "1        NaN        NaN  [{'id': 'ehri_camps-570'}]   \n",
       "2  52.966700  14.433300  [{'id': 'ehri_camps-760'}]   \n",
       "3  49.983299   8.300000  [{'id': 'ehri_camps-108'}]   \n",
       "4  50.933300  14.016699                          []   \n",
       "\n",
       "                                            narrower  \\\n",
       "0                                                 []   \n",
       "1  [{'id': 'ehri_camps-2081'}, {'id': 'ehri_camps...   \n",
       "2                                                 []   \n",
       "3                                                 []   \n",
       "4                                                 []   \n",
       "\n",
       "                                                name  \\\n",
       "0  München-Allach (Porzellanmanufaktur) concentra...   \n",
       "1                         Concentration Camp Gusen I   \n",
       "2            Königsberg (Neumark) concentration camp   \n",
       "3                  Mainz-Weisenau concentration camp   \n",
       "4                        Struppen concentration camp   \n",
       "\n",
       "                                           alt_names  \\\n",
       "0   München-Allach (PMA) concentration camp Münch...   \n",
       "1                                                      \n",
       "2                                                      \n",
       "3                                                      \n",
       "4                                                      \n",
       "\n",
       "                            name_regex  \\\n",
       "0  München-Allach Porzellanmanufaktur    \n",
       "1                              Gusen I   \n",
       "2                  Königsberg Neumark    \n",
       "3                      Mainz-Weisenau    \n",
       "4                            Struppen    \n",
       "\n",
       "                                     alt_names_regex  \\\n",
       "0   München-Allach PMA  München Porzellanmanufakt...   \n",
       "1                                                      \n",
       "2                                                      \n",
       "3                                                      \n",
       "4                                                      \n",
       "\n",
       "                                               query  \\\n",
       "0  München-Allach Porzellanmanufaktur  München-Al...   \n",
       "1                                            Gusen I   \n",
       "2                                Königsberg Neumark    \n",
       "3                                    Mainz-Weisenau    \n",
       "4                                          Struppen    \n",
       "\n",
       "                                       query_with_cc  \n",
       "0  München-Allach Porzellanmanufaktur  München-Al...  \n",
       "1                         Gusen I concentration camp  \n",
       "2             Königsberg Neumark  concentration camp  \n",
       "3                 Mainz-Weisenau  concentration camp  \n",
       "4                       Struppen  concentration camp  "
      ]
     },
     "execution_count": 18,
     "metadata": {},
     "output_type": "execute_result"
    }
   ],
   "source": [
    "df.head()"
   ]
  },
  {
   "cell_type": "markdown",
   "id": "22dbce02",
   "metadata": {},
   "source": [
    "The task of this notebook is to geocode the locations of camps for which we already have longitude and latitude data to crosscheck whether the geospatial data currently offered through the EHRI portal is trustworthy enough or whether we need to validate the locations of certain camps. The strategy will be to geocode as many camps as possible and then compare the geocoding result with the already existing lat/long data to highlight any big discrepancies among them. If a camp's already inputted coordinates are 5km or more apart from the coordinates retrieved through the geocoding process, we will add this camp to the list of camps that need their locations checked again.\n",
    "\n",
    "To do this, first, we create a DataFrame containing the camps that already have their `latitude` and `longitude` data fields filled. We also create a DataFrame of the camps for which we do not currently hold any geodata (for future use)."
   ]
  },
  {
   "cell_type": "code",
   "execution_count": 19,
   "id": "7226a198",
   "metadata": {},
   "outputs": [],
   "source": [
    "camps_without_geodata = df[df.latitude.isnull()]"
   ]
  },
  {
   "cell_type": "code",
   "execution_count": 20,
   "id": "8a79a9eb",
   "metadata": {},
   "outputs": [
    {
     "name": "stdout",
     "output_type": "stream",
     "text": [
      "<class 'pandas.core.frame.DataFrame'>\n",
      "Int64Index: 1343 entries, 1 to 3072\n",
      "Data columns (total 12 columns):\n",
      " #   Column           Non-Null Count  Dtype  \n",
      "---  ------           --------------  -----  \n",
      " 0   id               1343 non-null   object \n",
      " 1   description      1343 non-null   object \n",
      " 2   latitude         0 non-null      float64\n",
      " 3   longitude        0 non-null      float64\n",
      " 4   broader          1343 non-null   object \n",
      " 5   narrower         1343 non-null   object \n",
      " 6   name             1343 non-null   object \n",
      " 7   alt_names        1343 non-null   object \n",
      " 8   name_regex       1343 non-null   object \n",
      " 9   alt_names_regex  1343 non-null   object \n",
      " 10  query            1343 non-null   object \n",
      " 11  query_with_cc    1343 non-null   object \n",
      "dtypes: float64(2), object(10)\n",
      "memory usage: 136.4+ KB\n"
     ]
    }
   ],
   "source": [
    "camps_without_geodata.info()"
   ]
  },
  {
   "cell_type": "code",
   "execution_count": 21,
   "id": "16a33b1c",
   "metadata": {},
   "outputs": [],
   "source": [
    "camps_with_geodata = df[df.latitude.isnull() == False]"
   ]
  },
  {
   "cell_type": "code",
   "execution_count": 22,
   "id": "6969216d",
   "metadata": {},
   "outputs": [
    {
     "name": "stdout",
     "output_type": "stream",
     "text": [
      "<class 'pandas.core.frame.DataFrame'>\n",
      "Int64Index: 1731 entries, 0 to 3073\n",
      "Data columns (total 12 columns):\n",
      " #   Column           Non-Null Count  Dtype  \n",
      "---  ------           --------------  -----  \n",
      " 0   id               1731 non-null   object \n",
      " 1   description      1731 non-null   object \n",
      " 2   latitude         1731 non-null   float64\n",
      " 3   longitude        1731 non-null   float64\n",
      " 4   broader          1731 non-null   object \n",
      " 5   narrower         1731 non-null   object \n",
      " 6   name             1731 non-null   object \n",
      " 7   alt_names        1731 non-null   object \n",
      " 8   name_regex       1731 non-null   object \n",
      " 9   alt_names_regex  1731 non-null   object \n",
      " 10  query            1731 non-null   object \n",
      " 11  query_with_cc    1731 non-null   object \n",
      "dtypes: float64(2), object(10)\n",
      "memory usage: 175.8+ KB\n"
     ]
    }
   ],
   "source": [
    "camps_with_geodata.info()"
   ]
  },
  {
   "cell_type": "markdown",
   "id": "ae2f1aa4",
   "metadata": {},
   "source": [
    "We will use the [GeoPy](https://geopy.readthedocs.io/en/stable/#nominatim) library and the Nominatim API to geocode the camps. Nominatim lets us search through OpenStreetMap data by names and addresses. For more information, see [here](https://nominatim.org/release-docs/develop/). To improve our results and avoid getting coordinates in places where we already know there were no concentration camps (Japan, China, Canada, etc), we also set the viewbox property to make sure our geolocator only considers the areas that are of interest to us."
   ]
  },
  {
   "cell_type": "code",
   "execution_count": 23,
   "id": "8d127424",
   "metadata": {},
   "outputs": [],
   "source": [
    "geolocator = Nominatim(user_agent=\"geocoding_EHRI_camps\")"
   ]
  },
  {
   "cell_type": "markdown",
   "id": "97c12c92",
   "metadata": {},
   "source": [
    "The following cell takes a lot of time to run (usually around 30 minutes). Please, only run it if it is necessary. The results of a previous run are provided with this notebook as a saved pickle file which you can import further down through the notebook."
   ]
  },
  {
   "cell_type": "code",
   "execution_count": 24,
   "id": "024cd91a",
   "metadata": {},
   "outputs": [],
   "source": [
    "# geocode = RateLimiter(geolocator.geocode, min_delay_seconds=1)\n",
    "\n",
    "# tqdm.pandas()\n",
    "\n",
    "# camps_geolocate = camps_with_geodata['query'].progress_apply(geocode,viewbox=[(68.536656, -21.104075),(-1.418345, 49.214965)], bounded=True)\n"
   ]
  },
  {
   "cell_type": "code",
   "execution_count": 25,
   "id": "a9428df8",
   "metadata": {},
   "outputs": [],
   "source": [
    "# camps_geolocate"
   ]
  },
  {
   "cell_type": "code",
   "execution_count": 26,
   "id": "6271e446",
   "metadata": {},
   "outputs": [],
   "source": [
    "# camps_with_geodata['query_camps_point'] = camps_geolocate.apply(lambda loc: tuple(loc.point) if loc else None)"
   ]
  },
  {
   "cell_type": "code",
   "execution_count": 27,
   "id": "4191e821",
   "metadata": {},
   "outputs": [],
   "source": [
    "# camps_with_geodata.info()"
   ]
  },
  {
   "cell_type": "markdown",
   "id": "3f7e87ff",
   "metadata": {},
   "source": [
    "Having geocoded our camps, we have a DataFrame that contains both the prefilled lat/long data and the geocoding results. However, the geocoder fails to retrieve information for some of the camps in our dataset and we end up with empty fields under the `query_camps_point` column. Since we cannot compare our prefilled locations with null coordinates, we remove the camps with no geocoding results and create a DataFrame that only contains camps with both coordinates."
   ]
  },
  {
   "cell_type": "code",
   "execution_count": 28,
   "id": "8efe9f17",
   "metadata": {},
   "outputs": [],
   "source": [
    "# full_camps_with_regex_VIEWBOX = camps_with_geodata[camps_with_geodata['query_camps_point'].isnull() == False]\n",
    "# full_camps_with_regex_VIEWBOX.head()"
   ]
  },
  {
   "cell_type": "markdown",
   "id": "18d23167",
   "metadata": {},
   "source": [
    "We save the result to the pickle format to retain data types (if saved to csv then import ast and use literal_eval)."
   ]
  },
  {
   "cell_type": "code",
   "execution_count": 29,
   "id": "a57c9994",
   "metadata": {},
   "outputs": [],
   "source": [
    "# full_camps_with_regex_VIEWBOX.to_pickle('full_camps_with_regex_VIEWBOX.pkl')"
   ]
  },
  {
   "cell_type": "markdown",
   "id": "bd45f052",
   "metadata": {},
   "source": [
    "Now that we have saved the geocoding result into a file, we can import it and work on it again without having to rerun the time-consuming geocoding function."
   ]
  },
  {
   "cell_type": "code",
   "execution_count": 30,
   "id": "7b584434",
   "metadata": {},
   "outputs": [],
   "source": [
    "full_camps_with_regex_VIEWBOX = pd.read_pickle('data/full_camps_with_regex_VIEWBOX.pkl')"
   ]
  },
  {
   "cell_type": "code",
   "execution_count": 31,
   "id": "363722a0",
   "metadata": {},
   "outputs": [
    {
     "name": "stdout",
     "output_type": "stream",
     "text": [
      "<class 'pandas.core.frame.DataFrame'>\n",
      "Int64Index: 1056 entries, 2 to 3071\n",
      "Data columns (total 13 columns):\n",
      " #   Column             Non-Null Count  Dtype  \n",
      "---  ------             --------------  -----  \n",
      " 0   id                 1056 non-null   object \n",
      " 1   description        1056 non-null   object \n",
      " 2   latitude           1056 non-null   float64\n",
      " 3   longitude          1056 non-null   float64\n",
      " 4   broader            1056 non-null   object \n",
      " 5   narrower           1056 non-null   object \n",
      " 6   names              1056 non-null   object \n",
      " 7   alt_names          1056 non-null   object \n",
      " 8   names_regex        1056 non-null   object \n",
      " 9   alt_names_regex    1056 non-null   object \n",
      " 10  query              1056 non-null   object \n",
      " 11  with_cc_query      1056 non-null   object \n",
      " 12  query_camps_point  1056 non-null   object \n",
      "dtypes: float64(2), object(11)\n",
      "memory usage: 115.5+ KB\n"
     ]
    }
   ],
   "source": [
    "full_camps_with_regex_VIEWBOX.info()"
   ]
  },
  {
   "cell_type": "markdown",
   "id": "a327e27f",
   "metadata": {},
   "source": [
    "We repeat the same process to get more geocoding results, this time using the query that additionally contains the 'concentration camp' phrase."
   ]
  },
  {
   "cell_type": "code",
   "execution_count": 32,
   "id": "fb176834",
   "metadata": {},
   "outputs": [],
   "source": [
    "# camps_geolocate_with_cc = camps_with_geodata['query_with_cc'].progress_apply(geocode)"
   ]
  },
  {
   "cell_type": "code",
   "execution_count": 33,
   "id": "be7f9018",
   "metadata": {},
   "outputs": [],
   "source": [
    "# camps_with_geodata['query_camps_point_with_cc'] = camps_geolocate_with_cc.apply(lambda loc: tuple(loc.point) if loc else None)"
   ]
  },
  {
   "cell_type": "code",
   "execution_count": 34,
   "id": "d818f6ff",
   "metadata": {},
   "outputs": [],
   "source": [
    "# full_camps_with_cc = camps_with_geodata[camps_with_geodata['query_camps_point_with_cc'].isnull() == False]\n",
    "# full_camps_with_cc.head()"
   ]
  },
  {
   "cell_type": "code",
   "execution_count": 35,
   "id": "9fb40800",
   "metadata": {},
   "outputs": [],
   "source": [
    "# full_camps_with_cc.to_pickle('full_camps_with_cc_pickle.pkl')"
   ]
  },
  {
   "cell_type": "code",
   "execution_count": 36,
   "id": "1e74b0f8",
   "metadata": {},
   "outputs": [],
   "source": [
    "full_camps_with_cc = pd.read_pickle('data/full_camps_with_cc_pickle.pkl')"
   ]
  },
  {
   "cell_type": "markdown",
   "id": "030ea216",
   "metadata": {},
   "source": [
    "Additionally, we might want to compare the geodata in our datasets with the SS camps geodata from [Holocaust Geographies](https://holocaustgeographies.org/). This dataset has also been uploaded to EHRI's geographic repository, and we can request it from the EHRI GeoServer as a GeoJSON file.\n",
    "\n",
    "Getting the data as GeoJSON from geonode does not always return a successful result (it seems we need to log in again and get a new link to generate a new token). Saving the GeoJSON result as a JSON file in the disk seems more stable across different runs."
   ]
  },
  {
   "cell_type": "code",
   "execution_count": 37,
   "id": "8dfcf3fa",
   "metadata": {
    "scrolled": true
   },
   "outputs": [],
   "source": [
    "# url = 'https://geonode.ehri-project-test.eu/geoserver/ows?service=WFS&version=1.0.0&request=GetFeature&typename=geonode%3Ass_camps_definitive&outputFormat=json&srs=EPSG%3A4326&srsName=EPSG%3A4326'\n",
    "# re = requests.get(url)\n",
    "# re.json()\n",
    "with open('data/sscamps.json','r') as f:\n",
    "    data = json.load(f)"
   ]
  },
  {
   "cell_type": "code",
   "execution_count": 38,
   "id": "b2e796ad",
   "metadata": {},
   "outputs": [],
   "source": [
    "# holocaust_geo_json_data = json.loads(re.text)\n",
    "holocaust_geo_json_data = data"
   ]
  },
  {
   "cell_type": "code",
   "execution_count": 39,
   "id": "0bd6f69a",
   "metadata": {},
   "outputs": [],
   "source": [
    "hg_data = holocaust_geo_json_data['features']"
   ]
  },
  {
   "cell_type": "code",
   "execution_count": 40,
   "id": "cd391797",
   "metadata": {},
   "outputs": [
    {
     "data": {
      "text/plain": [
       "{'type': 'Feature',\n",
       " 'id': 'ss_camps_definitive.1759',\n",
       " 'geometry': {'type': 'Point', 'coordinates': [23.974599, 55.288299]},\n",
       " 'geometry_name': 'the_geom',\n",
       " 'properties': {'fid': 1759,\n",
       "  'ID': '10-0490-0',\n",
       "  'MHG_ID': 1133,\n",
       "  'SUBCAMP': 'Kedahnen',\n",
       "  'MAIN': 'Kauen',\n",
       "  'WOMEN': 0,\n",
       "  'MEN': 0,\n",
       "  'GENDER': 0,\n",
       "  'FIRMS': '',\n",
       "  'YYYY_OPEN': '43',\n",
       "  'MM_OPEN': '12',\n",
       "  'DD_OPEN': '',\n",
       "  'OPEN_TXT': '\"First mentioned December 1943\"',\n",
       "  'YYYY_CLOSE': '44',\n",
       "  'MM_CLOSE': '07',\n",
       "  'DD_CLOSE': '',\n",
       "  'CLOSE_TXT': '\"July 1944\"',\n",
       "  'PRISONERS': '',\n",
       "  'DATE_OPEN': '1943-12-15T00:00:00Z',\n",
       "  'DATE_CLOSE': '1944-07-15T00:00:00Z',\n",
       "  'PEAK_POP': 300,\n",
       "  'FUNC_1': 1,\n",
       "  'FUNC_2': 0,\n",
       "  'HOW_FOUND': '',\n",
       "  'SHARE_LOC': 0,\n",
       "  'LAT': 55.288299,\n",
       "  'LONG': 23.974599,\n",
       "  'NATIONS': '',\n",
       "  'ENCY_REF': 'Encyclopedia of Camps, Volume 1 pg 856',\n",
       "  'LABOR': 'Unknown',\n",
       "  'EDIT_NOTES': '',\n",
       "  'FIRMABBREV': None}}"
      ]
     },
     "execution_count": 40,
     "metadata": {},
     "output_type": "execute_result"
    }
   ],
   "source": [
    "hg_data[0]"
   ]
  },
  {
   "cell_type": "markdown",
   "id": "f748ca35",
   "metadata": {},
   "source": [
    "We can now visualise the information that we got onto a map that contains a different layer for each data source."
   ]
  },
  {
   "cell_type": "code",
   "execution_count": 41,
   "id": "63a9a638",
   "metadata": {
    "scrolled": true
   },
   "outputs": [
    {
     "data": {
      "application/vnd.jupyter.widget-view+json": {
       "model_id": "6bcecc3663374c63baeca01de7a5e619",
       "version_major": 2,
       "version_minor": 0
      },
      "text/plain": [
       "Map(center=[50.998235, 6.67638], controls=(ZoomControl(options=['position', 'zoom_in_text', 'zoom_in_title', '…"
      ]
     },
     "metadata": {},
     "output_type": "display_data"
    }
   ],
   "source": [
    "from ipywidgets import HTML\n",
    "from ipyleaflet import Map, TileLayer, basemaps, Marker, Popup, CircleMarker, LayerGroup, LayersControl\n",
    "\n",
    "center = [50.998235, 6.676380]\n",
    "zoom = 5\n",
    "m = Map(center=center, zoom=zoom)\n",
    "\n",
    "# Create layer group\n",
    "EHRI_Portal = LayerGroup(name='EHRI_Portal')\n",
    "QUERY_GEOCODE = LayerGroup(name='QUERY_GEOCODE')\n",
    "QUERY_WITH_CC_GEOCODE = LayerGroup(name='QUERY_WITH_CC_GEOCODE')\n",
    "HG_SS_CAMPS = LayerGroup(name='HG_SS_CAMPS')\n",
    "\n",
    "\n",
    "for index, row in camps_with_geodata.iterrows():\n",
    "    color = '#34e912'\n",
    "    circleMarker = CircleMarker(\n",
    "    location=(row['latitude'],row['longitude']),\n",
    "    color=color,\n",
    "    weight=2\n",
    "    )\n",
    "#     m.add_layer(circleMarker)\n",
    "    EHRI_Portal.add_layer(circleMarker)\n",
    "    message = HTML()\n",
    "    message.value = f\"{row['name']}\"\n",
    "\n",
    "    # Popup associated to a layer\n",
    "    circleMarker.popup = message\n",
    "    \n",
    "m.add_layer(EHRI_Portal)\n",
    "\n",
    "for index, row in full_camps_with_regex_VIEWBOX.iterrows():\n",
    "    color = '#be00e0'\n",
    "    circleMarker = CircleMarker(\n",
    "    location=(row['query_camps_point'][0],row['query_camps_point'][1]),\n",
    "#     location=(row['geo_lat'],row['geo_long']),\n",
    "    color=color,\n",
    "    weight=2\n",
    "    )\n",
    "    QUERY_GEOCODE.add_layer(circleMarker)\n",
    "    message = HTML()\n",
    "    message.value = f\"{row['names']}\"\n",
    "\n",
    "    # Popup associated to a layer\n",
    "    circleMarker.popup = message\n",
    "\n",
    "m.add_layer(QUERY_GEOCODE)\n",
    "\n",
    "for index, row in full_camps_with_cc.iterrows():\n",
    "    color = '#59251e'\n",
    "    circleMarker = CircleMarker(\n",
    "    location=(row['with_cc_query_camps_point'][0],row['with_cc_query_camps_point'][1]),\n",
    "    color=color,\n",
    "    weight=2\n",
    "    )\n",
    "    QUERY_WITH_CC_GEOCODE.add_layer(circleMarker)\n",
    "    message = HTML()\n",
    "    message.value = f\"{row['names']}\"\n",
    "\n",
    "    # Popup associated to a layer\n",
    "    circleMarker.popup = message\n",
    "\n",
    "m.add_layer(QUERY_WITH_CC_GEOCODE)\n",
    "\n",
    "for row in hg_data:\n",
    "    color = 'blue'\n",
    "    circleMarker = CircleMarker(\n",
    "    location=(row['geometry']['coordinates'][1],row['geometry']['coordinates'][0]),\n",
    "    color=color,\n",
    "    weight=1,\n",
    "    fill=False,\n",
    "    dashArray=1\n",
    "    )\n",
    "    HG_SS_CAMPS.add_layer(circleMarker)\n",
    "    message = HTML()\n",
    "    message.value = f\"{row['id']}<br />Main: {row['properties']['MAIN']}<br />Subcamp: {row['properties']['SUBCAMP']}\"\n",
    "\n",
    "    # Popup associated to a layer\n",
    "    circleMarker.popup = message\n",
    "\n",
    "m.add_layer(HG_SS_CAMPS)\n",
    "\n",
    "control = LayersControl(position='topright')\n",
    "\n",
    "m.add_control(control)\n",
    "\n",
    "m.layout.height = '1000px'\n",
    "\n",
    "m"
   ]
  },
  {
   "cell_type": "markdown",
   "id": "f93273e6",
   "metadata": {},
   "source": [
    "This visualisation contains thousands of points, making it very hard to analyse the results. Instead, we have to focus only on the camps for which we have a reason to believe their locations might be incorrect. Although this method will return many false positives due to the lower quality of the data retrieved through automated geocoding compared to the manually inputted coordinates found in the EHRI portal, we can calculate the distance between these two points and single out the camps where the prefilled location is more than 5km apart from the geocoded location.\n",
    "\n",
    "The GeoPy library offers a predefined distance function that lets you calculate the geodesic distance between two points. See [here](https://geopy.readthedocs.io/en/stable/#module-geopy.distance). We use this function to calculate the distance between the point retrieved through geocoding and the prefilled location of each camp and save the result under a column which we call 'distance_from_EHRI_camp' in the full_camps_with_regex_VIEWBOX DataFrame."
   ]
  },
  {
   "cell_type": "code",
   "execution_count": 42,
   "id": "218ccc4e",
   "metadata": {},
   "outputs": [],
   "source": [
    "from geopy import distance\n",
    "for index, row in camps_with_geodata.iterrows():\n",
    "    for i, r, in full_camps_with_regex_VIEWBOX.iterrows():\n",
    "        if index == i:\n",
    "            full_camps_with_regex_VIEWBOX.at[i,'distance_from_EHRI_camp'] = geopy.distance.distance((row[\"latitude\"], row[\"longitude\"]), r[\"query_camps_point\"]).km"
   ]
  },
  {
   "cell_type": "markdown",
   "id": "3220f07a",
   "metadata": {},
   "source": [
    "We set the distance threshold in km."
   ]
  },
  {
   "cell_type": "code",
   "execution_count": 43,
   "id": "a75828ff",
   "metadata": {},
   "outputs": [],
   "source": [
    "distance_threshold = 5 #in kilometres"
   ]
  },
  {
   "cell_type": "markdown",
   "id": "90bbcbf2",
   "metadata": {},
   "source": [
    "We create a new DataFrame that contains the camps with potential errors based on our km distance threshold."
   ]
  },
  {
   "cell_type": "code",
   "execution_count": 44,
   "id": "41203cd9",
   "metadata": {},
   "outputs": [],
   "source": [
    "camps_with_potential_errors = full_camps_with_regex_VIEWBOX[full_camps_with_regex_VIEWBOX[\"distance_from_EHRI_camp\"] > distance_threshold]"
   ]
  },
  {
   "cell_type": "code",
   "execution_count": 45,
   "id": "ce2772a1",
   "metadata": {},
   "outputs": [
    {
     "name": "stdout",
     "output_type": "stream",
     "text": [
      "<class 'pandas.core.frame.DataFrame'>\n",
      "Int64Index: 259 entries, 9 to 3061\n",
      "Data columns (total 14 columns):\n",
      " #   Column                   Non-Null Count  Dtype  \n",
      "---  ------                   --------------  -----  \n",
      " 0   id                       259 non-null    object \n",
      " 1   description              259 non-null    object \n",
      " 2   latitude                 259 non-null    float64\n",
      " 3   longitude                259 non-null    float64\n",
      " 4   broader                  259 non-null    object \n",
      " 5   narrower                 259 non-null    object \n",
      " 6   names                    259 non-null    object \n",
      " 7   alt_names                259 non-null    object \n",
      " 8   names_regex              259 non-null    object \n",
      " 9   alt_names_regex          259 non-null    object \n",
      " 10  query                    259 non-null    object \n",
      " 11  with_cc_query            259 non-null    object \n",
      " 12  query_camps_point        259 non-null    object \n",
      " 13  distance_from_EHRI_camp  259 non-null    float64\n",
      "dtypes: float64(3), object(11)\n",
      "memory usage: 30.4+ KB\n"
     ]
    }
   ],
   "source": [
    "camps_with_potential_errors.info()"
   ]
  },
  {
   "cell_type": "markdown",
   "id": "9836a9ed",
   "metadata": {},
   "source": [
    "Using the 5km distance threshold, we can see that 259 camps need further attention to validate whether the data they contain is correct or incorrect."
   ]
  },
  {
   "cell_type": "markdown",
   "id": "6ecbe587",
   "metadata": {},
   "source": [
    "We visualise the result and see that our map now contains fewer points that are easier to analyse. We can further reduce this number by increasing the distance threshold or deactivating some of the layers. Perhaps the best source to consult when validating these locations is the USHMM Encyclopedia of Camps and Ghettos, which can be downloaded through this [link](https://www.ushmm.org/research/publications/encyclopedia-camps-ghettos). Although it does not contain the exact coordinates of the camps, it contains descriptions of the places, and the correct locations can be (at least approximately) deduced."
   ]
  },
  {
   "cell_type": "code",
   "execution_count": 46,
   "id": "5c84f920",
   "metadata": {
    "scrolled": false
   },
   "outputs": [
    {
     "data": {
      "application/vnd.jupyter.widget-view+json": {
       "model_id": "d58f40be1804434db19a2c6acfae0eb7",
       "version_major": 2,
       "version_minor": 0
      },
      "text/plain": [
       "Map(center=[50.998235, 6.67638], controls=(ZoomControl(options=['position', 'zoom_in_text', 'zoom_in_title', '…"
      ]
     },
     "metadata": {},
     "output_type": "display_data"
    }
   ],
   "source": [
    "center = [50.998235, 6.676380]\n",
    "zoom = 5\n",
    "m = Map(center=center, zoom=zoom)\n",
    "\n",
    "# Create layer group\n",
    "EHRI_Portal = LayerGroup(name='EHRI_Portal')\n",
    "QUERY_GEOCODE = LayerGroup(name='QUERY_GEOCODE')\n",
    "QUERY_WITH_CC_GEOCODE = LayerGroup(name='QUERY_WITH_CC_GEOCODE')\n",
    "HG_SS_CAMPS = LayerGroup(name='HG_SS_CAMPS')\n",
    "\n",
    "\n",
    "for index, row in camps_with_potential_errors.iterrows():\n",
    "    color = '#34e912'\n",
    "    circleMarker = CircleMarker(\n",
    "    location=(row['latitude'],row['longitude']),\n",
    "    color=color,\n",
    "    weight=2\n",
    "    )\n",
    "#     m.add_layer(circleMarker)\n",
    "    EHRI_Portal.add_layer(circleMarker)\n",
    "    message = HTML()\n",
    "    message.value = f\"{row['names']}\"\n",
    "\n",
    "    # Popup associated to a layer\n",
    "    circleMarker.popup = message\n",
    "    \n",
    "m.add_layer(EHRI_Portal)\n",
    "\n",
    "for index, row in camps_with_potential_errors.iterrows():\n",
    "    color = '#be00e0'\n",
    "    circleMarker = CircleMarker(\n",
    "    location=(row['query_camps_point'][0],row['query_camps_point'][1]),\n",
    "#     location=(row['geo_lat'],row['geo_long']),\n",
    "    color=color,\n",
    "    weight=2\n",
    "    )\n",
    "    QUERY_GEOCODE.add_layer(circleMarker)\n",
    "    message = HTML()\n",
    "    message.value = f\"{row['names']}\"\n",
    "\n",
    "    # Popup associated to a layer\n",
    "    circleMarker.popup = message\n",
    "\n",
    "m.add_layer(QUERY_GEOCODE)\n",
    "\n",
    "for index, row in full_camps_with_cc.iterrows():\n",
    "    color = '#59251e'\n",
    "    circleMarker = CircleMarker(\n",
    "    location=(row['with_cc_query_camps_point'][0],row['with_cc_query_camps_point'][1]),\n",
    "    color=color,\n",
    "    weight=2\n",
    "    )\n",
    "    QUERY_WITH_CC_GEOCODE.add_layer(circleMarker)\n",
    "    message = HTML()\n",
    "    message.value = f\"{row['names']}\"\n",
    "\n",
    "    # Popup associated to a layer\n",
    "    circleMarker.popup = message\n",
    "\n",
    "m.add_layer(QUERY_WITH_CC_GEOCODE)\n",
    "\n",
    "for row in hg_data:\n",
    "    color = 'blue'\n",
    "    circleMarker = CircleMarker(\n",
    "    location=(row['geometry']['coordinates'][1],row['geometry']['coordinates'][0]),\n",
    "    color=color,\n",
    "    weight=1,\n",
    "    fill=False,\n",
    "    dashArray=1\n",
    "    )\n",
    "    HG_SS_CAMPS.add_layer(circleMarker)\n",
    "    message = HTML()\n",
    "    message.value = f\"{row['id']}<br />Main: {row['properties']['MAIN']}<br />Subcamp: {row['properties']['SUBCAMP']}\"\n",
    "\n",
    "    # Popup associated to a layer\n",
    "    circleMarker.popup = message\n",
    "\n",
    "m.add_layer(HG_SS_CAMPS)\n",
    "\n",
    "control = LayersControl(position='topright')\n",
    "\n",
    "m.add_control(control)\n",
    "\n",
    "m.layout.height = '1000px'\n",
    "\n",
    "m"
   ]
  },
  {
   "cell_type": "markdown",
   "id": "dbefdb4d",
   "metadata": {},
   "source": [
    "The following fields can be used to search for a camp with potential errors by using its name as it appears on the EHRI portal:"
   ]
  },
  {
   "cell_type": "code",
   "execution_count": 47,
   "id": "c8915de6",
   "metadata": {},
   "outputs": [],
   "source": [
    "camp_name_on_EHRI_portal = \"Agdz concentration camp\""
   ]
  },
  {
   "cell_type": "code",
   "execution_count": 48,
   "id": "8b74320a",
   "metadata": {},
   "outputs": [
    {
     "data": {
      "text/html": [
       "<div>\n",
       "<style scoped>\n",
       "    .dataframe tbody tr th:only-of-type {\n",
       "        vertical-align: middle;\n",
       "    }\n",
       "\n",
       "    .dataframe tbody tr th {\n",
       "        vertical-align: top;\n",
       "    }\n",
       "\n",
       "    .dataframe thead th {\n",
       "        text-align: right;\n",
       "    }\n",
       "</style>\n",
       "<table border=\"1\" class=\"dataframe\">\n",
       "  <thead>\n",
       "    <tr style=\"text-align: right;\">\n",
       "      <th></th>\n",
       "      <th>id</th>\n",
       "      <th>description</th>\n",
       "      <th>latitude</th>\n",
       "      <th>longitude</th>\n",
       "      <th>broader</th>\n",
       "      <th>narrower</th>\n",
       "      <th>names</th>\n",
       "      <th>alt_names</th>\n",
       "      <th>names_regex</th>\n",
       "      <th>alt_names_regex</th>\n",
       "      <th>query</th>\n",
       "      <th>with_cc_query</th>\n",
       "      <th>query_camps_point</th>\n",
       "      <th>distance_from_EHRI_camp</th>\n",
       "    </tr>\n",
       "  </thead>\n",
       "  <tbody>\n",
       "    <tr>\n",
       "      <th>1165</th>\n",
       "      <td>ehri_camps-2607</td>\n",
       "      <td>{'name': 'Agdz concentration camp', 'altLabel'...</td>\n",
       "      <td>30.693333</td>\n",
       "      <td>6.446111</td>\n",
       "      <td>[]</td>\n",
       "      <td>[]</td>\n",
       "      <td>Agdz concentration camp</td>\n",
       "      <td></td>\n",
       "      <td>Agdz</td>\n",
       "      <td></td>\n",
       "      <td>Agdz</td>\n",
       "      <td>Agdz  concentration camp</td>\n",
       "      <td>(30.6943155, -6.4489453, 0.0)</td>\n",
       "      <td>1234.768189</td>\n",
       "    </tr>\n",
       "  </tbody>\n",
       "</table>\n",
       "</div>"
      ],
      "text/plain": [
       "                   id                                        description  \\\n",
       "1165  ehri_camps-2607  {'name': 'Agdz concentration camp', 'altLabel'...   \n",
       "\n",
       "       latitude  longitude broader narrower                    names  \\\n",
       "1165  30.693333   6.446111      []       []  Agdz concentration camp   \n",
       "\n",
       "     alt_names names_regex alt_names_regex  query             with_cc_query  \\\n",
       "1165                 Agdz                   Agdz   Agdz  concentration camp   \n",
       "\n",
       "                  query_camps_point  distance_from_EHRI_camp  \n",
       "1165  (30.6943155, -6.4489453, 0.0)              1234.768189  "
      ]
     },
     "execution_count": 48,
     "metadata": {},
     "output_type": "execute_result"
    }
   ],
   "source": [
    "camps_with_potential_errors[camps_with_potential_errors[\"names\"]==camp_name_on_EHRI_portal]"
   ]
  },
  {
   "cell_type": "markdown",
   "id": "5b49639e",
   "metadata": {},
   "source": [
    "Finally, you can export the list of the camps with potential errors to an Excel file and analyse it further. The cell has been commented out because this file is already provided in this GitHub repository."
   ]
  },
  {
   "cell_type": "code",
   "execution_count": 49,
   "id": "8c0291f9",
   "metadata": {},
   "outputs": [],
   "source": [
    "# camps_with_potential_errors.to_excel(\"EHRI_camps_with_potential_errors.xlsx\")"
   ]
  },
  {
   "cell_type": "code",
   "execution_count": null,
   "id": "06875d2d",
   "metadata": {},
   "outputs": [],
   "source": []
  }
 ],
 "metadata": {
  "kernelspec": {
   "display_name": "geoenv",
   "language": "python",
   "name": "geoenv"
  },
  "language_info": {
   "codemirror_mode": {
    "name": "ipython",
    "version": 3
   },
   "file_extension": ".py",
   "mimetype": "text/x-python",
   "name": "python",
   "nbconvert_exporter": "python",
   "pygments_lexer": "ipython3",
   "version": "3.8.11"
  }
 },
 "nbformat": 4,
 "nbformat_minor": 5
}
